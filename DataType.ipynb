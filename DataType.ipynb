{
 "cells": [
  {
   "cell_type": "markdown",
   "id": "a122690a",
   "metadata": {},
   "source": [
    "This notebook will explain the python common data types and some useful functions"
   ]
  },
  {
   "cell_type": "markdown",
   "id": "bea6c877",
   "metadata": {},
   "source": [
    "We can store information in variables. The most common variable types include integer, float, string, and boolean"
   ]
  },
  {
   "cell_type": "code",
   "execution_count": 4,
   "id": "fa5f3101",
   "metadata": {},
   "outputs": [],
   "source": [
    "# Integer is any whole number, no matter the sign\n",
    "\n",
    "integer=5\n",
    "integer=-2\n",
    "\n",
    "#float is a number with a decimal\n",
    "\n",
    "floatNumber=5.6\n",
    "floatNumber=-10.876\n",
    "\n",
    "#string is any alphanumerical value\n",
    "\n",
    "string=\"word\"\n",
    "string=\"68\"\n",
    "string=\"pAssw0rd\"\n",
    "\n",
    "#boolaen is true or false\n",
    "\n",
    "boolean=True\n",
    "boolean=False"
   ]
  },
  {
   "cell_type": "markdown",
   "id": "e6582279",
   "metadata": {},
   "source": [
    "It's important to understand the type of the variable in order to understand what functions you can perform with that variable"
   ]
  },
  {
   "cell_type": "code",
   "execution_count": 6,
   "id": "b32f3233",
   "metadata": {},
   "outputs": [
    {
     "name": "stdout",
     "output_type": "stream",
     "text": [
      "integer <class 'int'>\n",
      "floatNumber <class 'float'>\n",
      "string <class 'str'>\n",
      "boolean <class 'bool'>\n"
     ]
    }
   ],
   "source": [
    "print('integer',type(integer))\n",
    "print('floatNumber',type(floatNumber))\n",
    "print('string',type(string))\n",
    "print('boolean',type(boolean))\n",
    "                    "
   ]
  },
  {
   "cell_type": "markdown",
   "id": "d927e263",
   "metadata": {},
   "source": [
    "Some common string functions\n"
   ]
  },
  {
   "cell_type": "code",
   "execution_count": 30,
   "id": "0e6f8ecd",
   "metadata": {},
   "outputs": [
    {
     "name": "stdout",
     "output_type": "stream",
     "text": [
      "Data\n",
      "['This', 'is', 'a', 'sentence']\n",
      "['Split', 'With', 'a', 'Delimiter']\n",
      "lower\n",
      "UPPER\n"
     ]
    }
   ],
   "source": [
    "#Can combine strings\n",
    "\n",
    "print(\"Da\"+\"ta\")\n",
    "\n",
    "#Can split strings\n",
    "print(\"This is a sentence\".split())\n",
    "print(\"Split|With|a|Delimiter\".split(\"|\"))\n",
    "\n",
    "#make strings lower case\n",
    "\n",
    "string=\"LOWER\"\n",
    "print(string.lower())\n",
    "\n",
    "#make strings uppercase\n",
    "\n",
    "string=\"upper\"\n",
    "print(string.upper())\n"
   ]
  },
  {
   "cell_type": "markdown",
   "id": "53236b78",
   "metadata": {},
   "source": [
    "Some common numeric functions"
   ]
  },
  {
   "cell_type": "code",
   "execution_count": 29,
   "id": "08ff861d",
   "metadata": {},
   "outputs": [
    {
     "name": "stdout",
     "output_type": "stream",
     "text": [
      "2\n",
      "11\n",
      "10\n",
      "11.2\n",
      "-5\n",
      "10.9\n",
      "11\n",
      "3\n",
      "3\n",
      "6\n",
      "2.0\n",
      "16\n"
     ]
    }
   ],
   "source": [
    "#absolute function\n",
    "\n",
    "print(abs(integer))\n",
    "\n",
    "#rounding up a float. Need to first import the math mudle to be able to use the functions ceil and floor\n",
    "import math\n",
    "floatNumber=10.6\n",
    "print(math.ceil(floatNumber))\n",
    "\n",
    "#rounding down a float\n",
    "print(math.floor(floatNumber))\n",
    "\n",
    "#Get max or min from a selection of numbers\n",
    "print(max(-5, 11.2, 9, 0))\n",
    "print(min(-5, 11.2, 9, 0))\n",
    "\n",
    "#round to n digits\n",
    "floatNumber=10.897\n",
    "print(round(floatNumber,1))\n",
    "print(round(floatNumber))\n",
    "\n",
    "#addition\n",
    "print(1+2)\n",
    "\n",
    "#subtraction\n",
    "print(5-2)\n",
    "\n",
    "#multiplication\n",
    "print(2*3)\n",
    "\n",
    "#division\n",
    "print(4/2)\n",
    "\n",
    "#power\n",
    "print(4**2)"
   ]
  }
 ],
 "metadata": {
  "kernelspec": {
   "display_name": "Python 3",
   "language": "python",
   "name": "python3"
  },
  "language_info": {
   "codemirror_mode": {
    "name": "ipython",
    "version": 3
   },
   "file_extension": ".py",
   "mimetype": "text/x-python",
   "name": "python",
   "nbconvert_exporter": "python",
   "pygments_lexer": "ipython3",
   "version": "3.8.8"
  }
 },
 "nbformat": 4,
 "nbformat_minor": 5
}
