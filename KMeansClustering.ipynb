{
 "cells": [
  {
   "cell_type": "markdown",
   "id": "36e5cec0",
   "metadata": {},
   "source": [
    "Program:  K-Means Clustering\n",
    "Analyst:  Alyssa Fedgo\n",
    "Date:     June 22, 2021\n",
    "Purpose:  Group players by their performance"
   ]
  },
  {
   "cell_type": "code",
   "execution_count": 43,
   "id": "ee759b83",
   "metadata": {},
   "outputs": [],
   "source": [
    "import matplotlib.pyplot as plt\n",
    "import pandas as pd\n",
    "import seaborn as sns\n",
    "from kneed import KneeLocator\n",
    "from sklearn.datasets import make_blobs\n",
    "from sklearn.cluster import KMeans\n",
    "from sklearn.metrics import silhouette_score\n",
    "from sklearn.preprocessing import StandardScaler\n",
    "from sklearn.pipeline import Pipeline"
   ]
  },
  {
   "cell_type": "markdown",
   "id": "e391edd5",
   "metadata": {},
   "source": [
    "Read in data set and keep only features needed"
   ]
  },
  {
   "cell_type": "code",
   "execution_count": 10,
   "id": "ac4b4ab7",
   "metadata": {},
   "outputs": [
    {
     "data": {
      "text/html": [
       "<div>\n",
       "<style scoped>\n",
       "    .dataframe tbody tr th:only-of-type {\n",
       "        vertical-align: middle;\n",
       "    }\n",
       "\n",
       "    .dataframe tbody tr th {\n",
       "        vertical-align: top;\n",
       "    }\n",
       "\n",
       "    .dataframe thead th {\n",
       "        text-align: right;\n",
       "    }\n",
       "</style>\n",
       "<table border=\"1\" class=\"dataframe\">\n",
       "  <thead>\n",
       "    <tr style=\"text-align: right;\">\n",
       "      <th></th>\n",
       "      <th>Score</th>\n",
       "      <th>player</th>\n",
       "      <th>sg_total</th>\n",
       "      <th>date</th>\n",
       "    </tr>\n",
       "  </thead>\n",
       "  <tbody>\n",
       "    <tr>\n",
       "      <th>0</th>\n",
       "      <td>-8</td>\n",
       "      <td>Aaron Baddeley</td>\n",
       "      <td>1.53</td>\n",
       "      <td>2015-02-01</td>\n",
       "    </tr>\n",
       "    <tr>\n",
       "      <th>1</th>\n",
       "      <td>-7</td>\n",
       "      <td>Aaron Baddeley</td>\n",
       "      <td>-0.37</td>\n",
       "      <td>2015-02-15</td>\n",
       "    </tr>\n",
       "    <tr>\n",
       "      <th>2</th>\n",
       "      <td>3</td>\n",
       "      <td>Aaron Baddeley</td>\n",
       "      <td>-2.34</td>\n",
       "      <td>2015-02-08</td>\n",
       "    </tr>\n",
       "    <tr>\n",
       "      <th>3</th>\n",
       "      <td>NaN</td>\n",
       "      <td>Aaron Baddeley</td>\n",
       "      <td>NaN</td>\n",
       "      <td>2015-02-22</td>\n",
       "    </tr>\n",
       "    <tr>\n",
       "      <th>4</th>\n",
       "      <td>11</td>\n",
       "      <td>Aaron Baddeley</td>\n",
       "      <td>-5.23</td>\n",
       "      <td>2015-05-10</td>\n",
       "    </tr>\n",
       "  </tbody>\n",
       "</table>\n",
       "</div>"
      ],
      "text/plain": [
       "  Score          player  sg_total       date\n",
       "0    -8  Aaron Baddeley      1.53 2015-02-01\n",
       "1    -7  Aaron Baddeley     -0.37 2015-02-15\n",
       "2     3  Aaron Baddeley     -2.34 2015-02-08\n",
       "3   NaN  Aaron Baddeley       NaN 2015-02-22\n",
       "4    11  Aaron Baddeley     -5.23 2015-05-10"
      ]
     },
     "execution_count": 10,
     "metadata": {},
     "output_type": "execute_result"
    }
   ],
   "source": [
    "df=pd.read_csv(\"ASA All PGA Raw Data - Tourn Level.csv.txt\",parse_dates=['date'])\n",
    "features=df[['Score','player','sg_total','date']]\n",
    "features.head()"
   ]
  },
  {
   "cell_type": "code",
   "execution_count": 14,
   "id": "f4debf50",
   "metadata": {},
   "outputs": [
    {
     "data": {
      "text/plain": [
       "Score               object\n",
       "player              object\n",
       "sg_total           float64\n",
       "date        datetime64[ns]\n",
       "dtype: object"
      ]
     },
     "execution_count": 14,
     "metadata": {},
     "output_type": "execute_result"
    }
   ],
   "source": [
    "features.dtypes"
   ]
  },
  {
   "cell_type": "markdown",
   "id": "361251a6",
   "metadata": {},
   "source": [
    "Convert score to numeric"
   ]
  },
  {
   "cell_type": "code",
   "execution_count": 18,
   "id": "0953a26e",
   "metadata": {},
   "outputs": [
    {
     "data": {
      "text/plain": [
       "Score              float64\n",
       "player              object\n",
       "sg_total           float64\n",
       "date        datetime64[ns]\n",
       "dtype: object"
      ]
     },
     "execution_count": 18,
     "metadata": {},
     "output_type": "execute_result"
    }
   ],
   "source": [
    "features=features.replace('E','0')\n",
    "features['Score']=features['Score'].astype(float)\n",
    "features.dtypes"
   ]
  },
  {
   "cell_type": "code",
   "execution_count": 90,
   "id": "25150f8c",
   "metadata": {},
   "outputs": [
    {
     "data": {
      "text/plain": [
       "31822"
      ]
     },
     "execution_count": 90,
     "metadata": {},
     "output_type": "execute_result"
    }
   ],
   "source": [
    "len(features['player'])"
   ]
  },
  {
   "cell_type": "markdown",
   "id": "4cf9cc04",
   "metadata": {},
   "source": [
    "Average score and strokes gained total by player"
   ]
  },
  {
   "cell_type": "code",
   "execution_count": 22,
   "id": "43be3c97",
   "metadata": {},
   "outputs": [
    {
     "data": {
      "text/html": [
       "<div>\n",
       "<style scoped>\n",
       "    .dataframe tbody tr th:only-of-type {\n",
       "        vertical-align: middle;\n",
       "    }\n",
       "\n",
       "    .dataframe tbody tr th {\n",
       "        vertical-align: top;\n",
       "    }\n",
       "\n",
       "    .dataframe thead th {\n",
       "        text-align: right;\n",
       "    }\n",
       "</style>\n",
       "<table border=\"1\" class=\"dataframe\">\n",
       "  <thead>\n",
       "    <tr style=\"text-align: right;\">\n",
       "      <th></th>\n",
       "      <th>Score</th>\n",
       "      <th>sg_total</th>\n",
       "    </tr>\n",
       "    <tr>\n",
       "      <th>player</th>\n",
       "      <th></th>\n",
       "      <th></th>\n",
       "    </tr>\n",
       "  </thead>\n",
       "  <tbody>\n",
       "    <tr>\n",
       "      <th>Aaron Baddeley</th>\n",
       "      <td>-1.486239</td>\n",
       "      <td>-0.290000</td>\n",
       "    </tr>\n",
       "    <tr>\n",
       "      <th>Aaron Rai</th>\n",
       "      <td>12.000000</td>\n",
       "      <td>-2.850000</td>\n",
       "    </tr>\n",
       "    <tr>\n",
       "      <th>Aaron Wise</th>\n",
       "      <td>-2.910256</td>\n",
       "      <td>0.105897</td>\n",
       "    </tr>\n",
       "    <tr>\n",
       "      <th>Abraham Ancer</th>\n",
       "      <td>-3.204545</td>\n",
       "      <td>0.364318</td>\n",
       "    </tr>\n",
       "    <tr>\n",
       "      <th>Adam Hadwin</th>\n",
       "      <td>-1.952756</td>\n",
       "      <td>0.197244</td>\n",
       "    </tr>\n",
       "  </tbody>\n",
       "</table>\n",
       "</div>"
      ],
      "text/plain": [
       "                    Score  sg_total\n",
       "player                             \n",
       "Aaron Baddeley  -1.486239 -0.290000\n",
       "Aaron Rai       12.000000 -2.850000\n",
       "Aaron Wise      -2.910256  0.105897\n",
       "Abraham Ancer   -3.204545  0.364318\n",
       "Adam Hadwin     -1.952756  0.197244"
      ]
     },
     "execution_count": 22,
     "metadata": {},
     "output_type": "execute_result"
    }
   ],
   "source": [
    "df_avg=features.groupby('player',as_index=False)[['Score','sg_total']].mean().dropna()\n",
    "df_avg.set_index('player',inplace=True)\n",
    "df_avg.head()\n"
   ]
  },
  {
   "cell_type": "code",
   "execution_count": 91,
   "id": "08601dfe",
   "metadata": {},
   "outputs": [
    {
     "data": {
      "text/plain": [
       "434"
      ]
     },
     "execution_count": 91,
     "metadata": {},
     "output_type": "execute_result"
    }
   ],
   "source": [
    "len(df_avg.index)"
   ]
  },
  {
   "cell_type": "markdown",
   "id": "f2b39f9f",
   "metadata": {},
   "source": [
    "Standardize features for comparison"
   ]
  },
  {
   "cell_type": "code",
   "execution_count": 27,
   "id": "a76ef5f1",
   "metadata": {},
   "outputs": [
    {
     "data": {
      "text/html": [
       "<div>\n",
       "<style scoped>\n",
       "    .dataframe tbody tr th:only-of-type {\n",
       "        vertical-align: middle;\n",
       "    }\n",
       "\n",
       "    .dataframe tbody tr th {\n",
       "        vertical-align: top;\n",
       "    }\n",
       "\n",
       "    .dataframe thead th {\n",
       "        text-align: right;\n",
       "    }\n",
       "</style>\n",
       "<table border=\"1\" class=\"dataframe\">\n",
       "  <thead>\n",
       "    <tr style=\"text-align: right;\">\n",
       "      <th></th>\n",
       "      <th>Score</th>\n",
       "      <th>sg_total</th>\n",
       "    </tr>\n",
       "    <tr>\n",
       "      <th>player</th>\n",
       "      <th></th>\n",
       "      <th></th>\n",
       "    </tr>\n",
       "  </thead>\n",
       "  <tbody>\n",
       "    <tr>\n",
       "      <th>Aaron Baddeley</th>\n",
       "      <td>-0.487402</td>\n",
       "      <td>0.387280</td>\n",
       "    </tr>\n",
       "    <tr>\n",
       "      <th>Aaron Rai</th>\n",
       "      <td>2.384536</td>\n",
       "      <td>-1.317737</td>\n",
       "    </tr>\n",
       "    <tr>\n",
       "      <th>Aaron Wise</th>\n",
       "      <td>-0.790651</td>\n",
       "      <td>0.650956</td>\n",
       "    </tr>\n",
       "    <tr>\n",
       "      <th>Abraham Ancer</th>\n",
       "      <td>-0.853321</td>\n",
       "      <td>0.823070</td>\n",
       "    </tr>\n",
       "    <tr>\n",
       "      <th>Adam Hadwin</th>\n",
       "      <td>-0.586748</td>\n",
       "      <td>0.711795</td>\n",
       "    </tr>\n",
       "  </tbody>\n",
       "</table>\n",
       "</div>"
      ],
      "text/plain": [
       "                   Score  sg_total\n",
       "player                            \n",
       "Aaron Baddeley -0.487402  0.387280\n",
       "Aaron Rai       2.384536 -1.317737\n",
       "Aaron Wise     -0.790651  0.650956\n",
       "Abraham Ancer  -0.853321  0.823070\n",
       "Adam Hadwin    -0.586748  0.711795"
      ]
     },
     "execution_count": 27,
     "metadata": {},
     "output_type": "execute_result"
    }
   ],
   "source": [
    "scaler = StandardScaler()\n",
    "scaled_features = scaler.fit_transform(df_avg)\n",
    "scaled_features_df = pd.DataFrame(scaled_features, index=df_avg.index, columns=df_avg.columns)\n",
    "scaled_features_df.head()"
   ]
  },
  {
   "cell_type": "markdown",
   "id": "8a9ced5d",
   "metadata": {},
   "source": [
    "K-means clustering"
   ]
  },
  {
   "cell_type": "code",
   "execution_count": 29,
   "id": "3f6a45b3",
   "metadata": {},
   "outputs": [
    {
     "data": {
      "text/plain": [
       "KMeans(init='random', n_clusters=3, random_state=42)"
      ]
     },
     "execution_count": 29,
     "metadata": {},
     "output_type": "execute_result"
    }
   ],
   "source": [
    "kmeans = KMeans(\n",
    "            init=\"random\",\n",
    "            n_clusters=3,\n",
    "            n_init=10,\n",
    "            max_iter=300,\n",
    "            random_state=42\n",
    "    )\n",
    "\n",
    "kmeans.fit(scaled_features_df)"
   ]
  },
  {
   "cell_type": "code",
   "execution_count": 30,
   "id": "6e97b5e9",
   "metadata": {},
   "outputs": [
    {
     "data": {
      "text/plain": [
       "221.7648224276977"
      ]
     },
     "execution_count": 30,
     "metadata": {},
     "output_type": "execute_result"
    }
   ],
   "source": [
    "kmeans.inertia_"
   ]
  },
  {
   "cell_type": "code",
   "execution_count": 31,
   "id": "7519baac",
   "metadata": {},
   "outputs": [
    {
     "data": {
      "text/plain": [
       "array([[ 2.61347612, -2.65372403],\n",
       "       [ 0.46252934, -0.36129974],\n",
       "       [-0.50520891,  0.46819324]])"
      ]
     },
     "execution_count": 31,
     "metadata": {},
     "output_type": "execute_result"
    }
   ],
   "source": [
    "kmeans.cluster_centers_"
   ]
  },
  {
   "cell_type": "code",
   "execution_count": 32,
   "id": "2aa6c293",
   "metadata": {},
   "outputs": [
    {
     "data": {
      "text/plain": [
       "10"
      ]
     },
     "execution_count": 32,
     "metadata": {},
     "output_type": "execute_result"
    }
   ],
   "source": [
    "kmeans.n_iter_"
   ]
  },
  {
   "cell_type": "code",
   "execution_count": 33,
   "id": "da4ef8b4",
   "metadata": {},
   "outputs": [
    {
     "data": {
      "text/plain": [
       "array([2, 0, 2, 2, 2])"
      ]
     },
     "execution_count": 33,
     "metadata": {},
     "output_type": "execute_result"
    }
   ],
   "source": [
    "kmeans.labels_[:5]"
   ]
  },
  {
   "cell_type": "markdown",
   "id": "f35ded5d",
   "metadata": {},
   "source": [
    "Elbow Method"
   ]
  },
  {
   "cell_type": "code",
   "execution_count": 34,
   "id": "99e6f53d",
   "metadata": {},
   "outputs": [
    {
     "name": "stderr",
     "output_type": "stream",
     "text": [
      "C:\\Users\\afedgo\\anaconda3\\lib\\site-packages\\sklearn\\cluster\\_kmeans.py:881: UserWarning: KMeans is known to have a memory leak on Windows with MKL, when there are less chunks than available threads. You can avoid it by setting the environment variable OMP_NUM_THREADS=2.\n",
      "  warnings.warn(\n"
     ]
    }
   ],
   "source": [
    "kmeans_kwargs = {\n",
    "        \"init\": \"random\",\n",
    "        \"n_init\": 10,\n",
    "        \"max_iter\": 300,\n",
    "        \"random_state\": 42,\n",
    "    }\n",
    "\n",
    "# A list holds the SSE values for each k\n",
    "sse = []\n",
    "for k in range(1, 11):\n",
    "    kmeans = KMeans(n_clusters=k, **kmeans_kwargs)\n",
    "    kmeans.fit(scaled_features_df)\n",
    "    sse.append(kmeans.inertia_)"
   ]
  },
  {
   "cell_type": "raw",
   "id": "823044c9",
   "metadata": {},
   "source": [
    "Show Plot to pick K"
   ]
  },
  {
   "cell_type": "code",
   "execution_count": 35,
   "id": "89fab572",
   "metadata": {},
   "outputs": [
    {
     "data": {
      "image/png": "[encoded data removed]",
      "text/plain": [
       "<Figure size 432x288 with 1 Axes>"
      ]
     },
     "metadata": {},
     "output_type": "display_data"
    }
   ],
   "source": [
    "plt.style.use(\"fivethirtyeight\")\n",
    "plt.plot(range(1, 11), sse)\n",
    "plt.xticks(range(1, 11))\n",
    "plt.xlabel(\"Number of Clusters\")\n",
    "plt.ylabel(\"SSE\")\n",
    "plt.show()"
   ]
  },
  {
   "cell_type": "code",
   "execution_count": null,
   "id": "59f41671",
   "metadata": {},
   "outputs": [],
   "source": [
    "Programmaticaly find the elbow"
   ]
  },
  {
   "cell_type": "code",
   "execution_count": 36,
   "id": "fa5e8c3a",
   "metadata": {},
   "outputs": [
    {
     "data": {
      "text/plain": [
       "3"
      ]
     },
     "execution_count": 36,
     "metadata": {},
     "output_type": "execute_result"
    }
   ],
   "source": [
    "kl = KneeLocator(\n",
    "     range(1, 11), sse, curve=\"convex\", direction=\"decreasing\"\n",
    " )\n",
    "\n",
    "kl.elbow\n",
    "\n"
   ]
  },
  {
   "cell_type": "markdown",
   "id": "8d312677",
   "metadata": {},
   "source": [
    "Evaluating clusters with silhouette coefficient instead of elbo"
   ]
  },
  {
   "cell_type": "code",
   "execution_count": 37,
   "id": "82712b6b",
   "metadata": {},
   "outputs": [],
   "source": [
    "# A list holds the silhouette coefficients for each k\n",
    "silhouette_coefficients = []\n",
    "\n",
    "# Notice you start at 2 clusters for silhouette coefficient\n",
    "for k in range(2, 11):\n",
    "    kmeans = KMeans(n_clusters=k, **kmeans_kwargs)\n",
    "    kmeans.fit(scaled_features_df)\n",
    "    score = silhouette_score(scaled_features_df, kmeans.labels_)\n",
    "    silhouette_coefficients.append(score)\n"
   ]
  },
  {
   "cell_type": "code",
   "execution_count": 38,
   "id": "b156461c",
   "metadata": {},
   "outputs": [
    {
     "data": {
      "image/png": "[encoded data removed]",
      "text/plain": [
       "<Figure size 432x288 with 1 Axes>"
      ]
     },
     "metadata": {},
     "output_type": "display_data"
    }
   ],
   "source": [
    "plt.style.use(\"fivethirtyeight\")\n",
    "plt.plot(range(2, 11), silhouette_coefficients)\n",
    "plt.xticks(range(2, 11))\n",
    "plt.xlabel(\"Number of Clusters\")\n",
    "plt.ylabel(\"Silhouette Coefficient\")\n",
    "plt.show()\n"
   ]
  },
  {
   "cell_type": "markdown",
   "id": "eda736ae",
   "metadata": {},
   "source": [
    "Pipeline"
   ]
  },
  {
   "cell_type": "code",
   "execution_count": 83,
   "id": "e09a7b78",
   "metadata": {},
   "outputs": [
    {
     "data": {
      "text/plain": [
       "Pipeline(steps=[('kmeans',\n",
       "                 KMeans(max_iter=500, n_clusters=6, n_init=50,\n",
       "                        random_state=42))])"
      ]
     },
     "execution_count": 83,
     "metadata": {},
     "output_type": "execute_result"
    }
   ],
   "source": [
    "clusterer = Pipeline(\n",
    "    [\n",
    "        (\n",
    "            \"kmeans\",\n",
    "             KMeans(\n",
    "                n_clusters=6,\n",
    "                init=\"k-means++\",\n",
    "                n_init=50,\n",
    "                max_iter=500,\n",
    "                random_state=42,\n",
    "            ),\n",
    "        ),\n",
    "    ]\n",
    " )\n",
    "\n",
    "clusterer.fit(scaled_features_df)"
   ]
  },
  {
   "cell_type": "code",
   "execution_count": 84,
   "id": "9ca89988",
   "metadata": {},
   "outputs": [
    {
     "name": "stderr",
     "output_type": "stream",
     "text": [
      "C:\\Users\\afedgo\\anaconda3\\lib\\site-packages\\seaborn\\_decorators.py:36: FutureWarning: Pass the following variables as keyword args: x, y. From version 0.12, the only valid positional argument will be `data`, and passing other arguments without an explicit keyword will result in an error or misinterpretation.\n",
      "  warnings.warn(\n"
     ]
    },
    {
     "data": {
      "image/png": "[encoded data removed]",
      "text/plain": [
       "<Figure size 576x576 with 1 Axes>"
      ]
     },
     "metadata": {},
     "output_type": "display_data"
    }
   ],
   "source": [
    "scaled_features_df[\"predicted_cluster\"] = clusterer[\"kmeans\"].labels_\n",
    "    \n",
    "plt.style.use(\"fivethirtyeight\")\n",
    "plt.figure(figsize=(8, 8))\n",
    "\n",
    "scat = sns.scatterplot(\n",
    "     \"Score\",\n",
    "     \"sg_total\",\n",
    "     s=50,\n",
    "     data=scaled_features_df,\n",
    "     hue=\"predicted_cluster\",\n",
    "     palette=\"Set2\",\n",
    " )\n",
    "\n",
    "scat.set_title(\n",
    "     \"Clustering results from PGA Scores and Strokes Gained Total Data\"\n",
    " )\n",
    "plt.legend(bbox_to_anchor=(1.05, 1), loc=2, borderaxespad=0.0)\n",
    "\n",
    "plt.show()"
   ]
  },
  {
   "cell_type": "code",
   "execution_count": 85,
   "id": "3fb90cde",
   "metadata": {},
   "outputs": [
    {
     "data": {
      "text/html": [
       "<div>\n",
       "<style scoped>\n",
       "    .dataframe tbody tr th:only-of-type {\n",
       "        vertical-align: middle;\n",
       "    }\n",
       "\n",
       "    .dataframe tbody tr th {\n",
       "        vertical-align: top;\n",
       "    }\n",
       "\n",
       "    .dataframe thead th {\n",
       "        text-align: right;\n",
       "    }\n",
       "</style>\n",
       "<table border=\"1\" class=\"dataframe\">\n",
       "  <thead>\n",
       "    <tr style=\"text-align: right;\">\n",
       "      <th></th>\n",
       "      <th>Score</th>\n",
       "      <th>sg_total</th>\n",
       "      <th>predicted_cluster</th>\n",
       "    </tr>\n",
       "    <tr>\n",
       "      <th>player</th>\n",
       "      <th></th>\n",
       "      <th></th>\n",
       "      <th></th>\n",
       "    </tr>\n",
       "  </thead>\n",
       "  <tbody>\n",
       "    <tr>\n",
       "      <th>Aaron Baddeley</th>\n",
       "      <td>-0.487402</td>\n",
       "      <td>0.387280</td>\n",
       "      <td>0</td>\n",
       "    </tr>\n",
       "    <tr>\n",
       "      <th>Aaron Rai</th>\n",
       "      <td>2.384536</td>\n",
       "      <td>-1.317737</td>\n",
       "      <td>4</td>\n",
       "    </tr>\n",
       "    <tr>\n",
       "      <th>Aaron Wise</th>\n",
       "      <td>-0.790651</td>\n",
       "      <td>0.650956</td>\n",
       "      <td>2</td>\n",
       "    </tr>\n",
       "    <tr>\n",
       "      <th>Abraham Ancer</th>\n",
       "      <td>-0.853321</td>\n",
       "      <td>0.823070</td>\n",
       "      <td>2</td>\n",
       "    </tr>\n",
       "    <tr>\n",
       "      <th>Adam Hadwin</th>\n",
       "      <td>-0.586748</td>\n",
       "      <td>0.711795</td>\n",
       "      <td>2</td>\n",
       "    </tr>\n",
       "  </tbody>\n",
       "</table>\n",
       "</div>"
      ],
      "text/plain": [
       "                   Score  sg_total  predicted_cluster\n",
       "player                                               \n",
       "Aaron Baddeley -0.487402  0.387280                  0\n",
       "Aaron Rai       2.384536 -1.317737                  4\n",
       "Aaron Wise     -0.790651  0.650956                  2\n",
       "Abraham Ancer  -0.853321  0.823070                  2\n",
       "Adam Hadwin    -0.586748  0.711795                  2"
      ]
     },
     "execution_count": 85,
     "metadata": {},
     "output_type": "execute_result"
    }
   ],
   "source": [
    "scaled_features_df.head()"
   ]
  },
  {
   "cell_type": "code",
   "execution_count": 86,
   "id": "c0d1ecfe",
   "metadata": {},
   "outputs": [],
   "source": [
    "scaled_features_df.loc[scaled_features_df['predicted_cluster']==2].to_csv('TopPlayers.csv')\n"
   ]
  },
  {
   "cell_type": "markdown",
   "id": "0f39b7ad",
   "metadata": {},
   "source": [
    "Select top 20 for score and sg_total"
   ]
  },
  {
   "cell_type": "code",
   "execution_count": 88,
   "id": "179a399a",
   "metadata": {},
   "outputs": [
    {
     "data": {
      "text/html": [
       "<div>\n",
       "<style scoped>\n",
       "    .dataframe tbody tr th:only-of-type {\n",
       "        vertical-align: middle;\n",
       "    }\n",
       "\n",
       "    .dataframe tbody tr th {\n",
       "        vertical-align: top;\n",
       "    }\n",
       "\n",
       "    .dataframe thead th {\n",
       "        text-align: right;\n",
       "    }\n",
       "</style>\n",
       "<table border=\"1\" class=\"dataframe\">\n",
       "  <thead>\n",
       "    <tr style=\"text-align: right;\">\n",
       "      <th></th>\n",
       "      <th>Score</th>\n",
       "      <th>sg_total</th>\n",
       "      <th>predicted_cluster</th>\n",
       "    </tr>\n",
       "    <tr>\n",
       "      <th>player</th>\n",
       "      <th></th>\n",
       "      <th></th>\n",
       "      <th></th>\n",
       "    </tr>\n",
       "  </thead>\n",
       "  <tbody>\n",
       "    <tr>\n",
       "      <th>Jon Rahm</th>\n",
       "      <td>-1.804443</td>\n",
       "      <td>1.620264</td>\n",
       "      <td>2</td>\n",
       "    </tr>\n",
       "    <tr>\n",
       "      <th>Dustin Johnson</th>\n",
       "      <td>-1.614001</td>\n",
       "      <td>1.571595</td>\n",
       "      <td>2</td>\n",
       "    </tr>\n",
       "    <tr>\n",
       "      <th>Patrick Cantlay</th>\n",
       "      <td>-1.562814</td>\n",
       "      <td>1.482548</td>\n",
       "      <td>2</td>\n",
       "    </tr>\n",
       "    <tr>\n",
       "      <th>Collin Morikawa</th>\n",
       "      <td>-1.537765</td>\n",
       "      <td>1.369895</td>\n",
       "      <td>2</td>\n",
       "    </tr>\n",
       "    <tr>\n",
       "      <th>Rory McIlroy</th>\n",
       "      <td>-1.480565</td>\n",
       "      <td>1.623500</td>\n",
       "      <td>2</td>\n",
       "    </tr>\n",
       "    <tr>\n",
       "      <th>Webb Simpson</th>\n",
       "      <td>-1.452717</td>\n",
       "      <td>1.286666</td>\n",
       "      <td>2</td>\n",
       "    </tr>\n",
       "    <tr>\n",
       "      <th>Justin Thomas</th>\n",
       "      <td>-1.344923</td>\n",
       "      <td>1.325908</td>\n",
       "      <td>2</td>\n",
       "    </tr>\n",
       "    <tr>\n",
       "      <th>Jordan Spieth</th>\n",
       "      <td>-1.309909</td>\n",
       "      <td>1.264474</td>\n",
       "      <td>2</td>\n",
       "    </tr>\n",
       "    <tr>\n",
       "      <th>Jason Day</th>\n",
       "      <td>-1.284471</td>\n",
       "      <td>1.308610</td>\n",
       "      <td>2</td>\n",
       "    </tr>\n",
       "    <tr>\n",
       "      <th>MJ Daffue</th>\n",
       "      <td>-1.271161</td>\n",
       "      <td>0.524924</td>\n",
       "      <td>2</td>\n",
       "    </tr>\n",
       "    <tr>\n",
       "      <th>Scottie Scheffler</th>\n",
       "      <td>-1.258323</td>\n",
       "      <td>1.059820</td>\n",
       "      <td>2</td>\n",
       "    </tr>\n",
       "    <tr>\n",
       "      <th>Hideki Matsuyama</th>\n",
       "      <td>-1.255387</td>\n",
       "      <td>1.230784</td>\n",
       "      <td>2</td>\n",
       "    </tr>\n",
       "    <tr>\n",
       "      <th>Sungjae Im</th>\n",
       "      <td>-1.227372</td>\n",
       "      <td>1.099664</td>\n",
       "      <td>2</td>\n",
       "    </tr>\n",
       "    <tr>\n",
       "      <th>Viktor Hovland</th>\n",
       "      <td>-1.219288</td>\n",
       "      <td>1.309123</td>\n",
       "      <td>2</td>\n",
       "    </tr>\n",
       "    <tr>\n",
       "      <th>Joaquin Niemann</th>\n",
       "      <td>-1.150487</td>\n",
       "      <td>1.025519</td>\n",
       "      <td>2</td>\n",
       "    </tr>\n",
       "    <tr>\n",
       "      <th>Bryson DeChambeau</th>\n",
       "      <td>-1.138872</td>\n",
       "      <td>1.095685</td>\n",
       "      <td>2</td>\n",
       "    </tr>\n",
       "    <tr>\n",
       "      <th>Paul Casey</th>\n",
       "      <td>-1.138451</td>\n",
       "      <td>1.214812</td>\n",
       "      <td>2</td>\n",
       "    </tr>\n",
       "    <tr>\n",
       "      <th>Brooks Koepka</th>\n",
       "      <td>-1.111446</td>\n",
       "      <td>1.254843</td>\n",
       "      <td>2</td>\n",
       "    </tr>\n",
       "    <tr>\n",
       "      <th>Daniel Berger</th>\n",
       "      <td>-1.094296</td>\n",
       "      <td>1.074178</td>\n",
       "      <td>2</td>\n",
       "    </tr>\n",
       "    <tr>\n",
       "      <th>Justin Rose</th>\n",
       "      <td>-1.087410</td>\n",
       "      <td>1.195274</td>\n",
       "      <td>2</td>\n",
       "    </tr>\n",
       "  </tbody>\n",
       "</table>\n",
       "</div>"
      ],
      "text/plain": [
       "                      Score  sg_total  predicted_cluster\n",
       "player                                                  \n",
       "Jon Rahm          -1.804443  1.620264                  2\n",
       "Dustin Johnson    -1.614001  1.571595                  2\n",
       "Patrick Cantlay   -1.562814  1.482548                  2\n",
       "Collin Morikawa   -1.537765  1.369895                  2\n",
       "Rory McIlroy      -1.480565  1.623500                  2\n",
       "Webb Simpson      -1.452717  1.286666                  2\n",
       "Justin Thomas     -1.344923  1.325908                  2\n",
       "Jordan Spieth     -1.309909  1.264474                  2\n",
       "Jason Day         -1.284471  1.308610                  2\n",
       "MJ Daffue         -1.271161  0.524924                  2\n",
       "Scottie Scheffler -1.258323  1.059820                  2\n",
       "Hideki Matsuyama  -1.255387  1.230784                  2\n",
       "Sungjae Im        -1.227372  1.099664                  2\n",
       "Viktor Hovland    -1.219288  1.309123                  2\n",
       "Joaquin Niemann   -1.150487  1.025519                  2\n",
       "Bryson DeChambeau -1.138872  1.095685                  2\n",
       "Paul Casey        -1.138451  1.214812                  2\n",
       "Brooks Koepka     -1.111446  1.254843                  2\n",
       "Daniel Berger     -1.094296  1.074178                  2\n",
       "Justin Rose       -1.087410  1.195274                  2"
      ]
     },
     "execution_count": 88,
     "metadata": {},
     "output_type": "execute_result"
    }
   ],
   "source": [
    "scaled_features_df.nsmallest(20,'Score')"
   ]
  },
  {
   "cell_type": "code",
   "execution_count": 89,
   "id": "be101e89",
   "metadata": {},
   "outputs": [
    {
     "data": {
      "text/html": [
       "<div>\n",
       "<style scoped>\n",
       "    .dataframe tbody tr th:only-of-type {\n",
       "        vertical-align: middle;\n",
       "    }\n",
       "\n",
       "    .dataframe tbody tr th {\n",
       "        vertical-align: top;\n",
       "    }\n",
       "\n",
       "    .dataframe thead th {\n",
       "        text-align: right;\n",
       "    }\n",
       "</style>\n",
       "<table border=\"1\" class=\"dataframe\">\n",
       "  <thead>\n",
       "    <tr style=\"text-align: right;\">\n",
       "      <th></th>\n",
       "      <th>Score</th>\n",
       "      <th>sg_total</th>\n",
       "      <th>predicted_cluster</th>\n",
       "    </tr>\n",
       "    <tr>\n",
       "      <th>player</th>\n",
       "      <th></th>\n",
       "      <th></th>\n",
       "      <th></th>\n",
       "    </tr>\n",
       "  </thead>\n",
       "  <tbody>\n",
       "    <tr>\n",
       "      <th>Rory McIlroy</th>\n",
       "      <td>-1.480565</td>\n",
       "      <td>1.623500</td>\n",
       "      <td>2</td>\n",
       "    </tr>\n",
       "    <tr>\n",
       "      <th>Jon Rahm</th>\n",
       "      <td>-1.804443</td>\n",
       "      <td>1.620264</td>\n",
       "      <td>2</td>\n",
       "    </tr>\n",
       "    <tr>\n",
       "      <th>Dustin Johnson</th>\n",
       "      <td>-1.614001</td>\n",
       "      <td>1.571595</td>\n",
       "      <td>2</td>\n",
       "    </tr>\n",
       "    <tr>\n",
       "      <th>Patrick Cantlay</th>\n",
       "      <td>-1.562814</td>\n",
       "      <td>1.482548</td>\n",
       "      <td>2</td>\n",
       "    </tr>\n",
       "    <tr>\n",
       "      <th>Collin Morikawa</th>\n",
       "      <td>-1.537765</td>\n",
       "      <td>1.369895</td>\n",
       "      <td>2</td>\n",
       "    </tr>\n",
       "    <tr>\n",
       "      <th>Justin Thomas</th>\n",
       "      <td>-1.344923</td>\n",
       "      <td>1.325908</td>\n",
       "      <td>2</td>\n",
       "    </tr>\n",
       "    <tr>\n",
       "      <th>Viktor Hovland</th>\n",
       "      <td>-1.219288</td>\n",
       "      <td>1.309123</td>\n",
       "      <td>2</td>\n",
       "    </tr>\n",
       "    <tr>\n",
       "      <th>Jason Day</th>\n",
       "      <td>-1.284471</td>\n",
       "      <td>1.308610</td>\n",
       "      <td>2</td>\n",
       "    </tr>\n",
       "    <tr>\n",
       "      <th>Webb Simpson</th>\n",
       "      <td>-1.452717</td>\n",
       "      <td>1.286666</td>\n",
       "      <td>2</td>\n",
       "    </tr>\n",
       "    <tr>\n",
       "      <th>Jordan Spieth</th>\n",
       "      <td>-1.309909</td>\n",
       "      <td>1.264474</td>\n",
       "      <td>2</td>\n",
       "    </tr>\n",
       "    <tr>\n",
       "      <th>Brooks Koepka</th>\n",
       "      <td>-1.111446</td>\n",
       "      <td>1.254843</td>\n",
       "      <td>2</td>\n",
       "    </tr>\n",
       "    <tr>\n",
       "      <th>Ben Cook</th>\n",
       "      <td>0.680910</td>\n",
       "      <td>1.246448</td>\n",
       "      <td>5</td>\n",
       "    </tr>\n",
       "    <tr>\n",
       "      <th>Hideki Matsuyama</th>\n",
       "      <td>-1.255387</td>\n",
       "      <td>1.230784</td>\n",
       "      <td>2</td>\n",
       "    </tr>\n",
       "    <tr>\n",
       "      <th>Paul Casey</th>\n",
       "      <td>-1.138451</td>\n",
       "      <td>1.214812</td>\n",
       "      <td>2</td>\n",
       "    </tr>\n",
       "    <tr>\n",
       "      <th>Adam Scott</th>\n",
       "      <td>-0.869389</td>\n",
       "      <td>1.196097</td>\n",
       "      <td>2</td>\n",
       "    </tr>\n",
       "    <tr>\n",
       "      <th>Justin Rose</th>\n",
       "      <td>-1.087410</td>\n",
       "      <td>1.195274</td>\n",
       "      <td>2</td>\n",
       "    </tr>\n",
       "    <tr>\n",
       "      <th>Xander Schauffele</th>\n",
       "      <td>-1.080555</td>\n",
       "      <td>1.190124</td>\n",
       "      <td>2</td>\n",
       "    </tr>\n",
       "    <tr>\n",
       "      <th>Patrick Reed</th>\n",
       "      <td>-1.031895</td>\n",
       "      <td>1.171865</td>\n",
       "      <td>2</td>\n",
       "    </tr>\n",
       "    <tr>\n",
       "      <th>Rickie Fowler</th>\n",
       "      <td>-0.982153</td>\n",
       "      <td>1.132590</td>\n",
       "      <td>2</td>\n",
       "    </tr>\n",
       "    <tr>\n",
       "      <th>Tyrrell Hatton</th>\n",
       "      <td>-0.900465</td>\n",
       "      <td>1.131128</td>\n",
       "      <td>2</td>\n",
       "    </tr>\n",
       "  </tbody>\n",
       "</table>\n",
       "</div>"
      ],
      "text/plain": [
       "                      Score  sg_total  predicted_cluster\n",
       "player                                                  \n",
       "Rory McIlroy      -1.480565  1.623500                  2\n",
       "Jon Rahm          -1.804443  1.620264                  2\n",
       "Dustin Johnson    -1.614001  1.571595                  2\n",
       "Patrick Cantlay   -1.562814  1.482548                  2\n",
       "Collin Morikawa   -1.537765  1.369895                  2\n",
       "Justin Thomas     -1.344923  1.325908                  2\n",
       "Viktor Hovland    -1.219288  1.309123                  2\n",
       "Jason Day         -1.284471  1.308610                  2\n",
       "Webb Simpson      -1.452717  1.286666                  2\n",
       "Jordan Spieth     -1.309909  1.264474                  2\n",
       "Brooks Koepka     -1.111446  1.254843                  2\n",
       "Ben Cook           0.680910  1.246448                  5\n",
       "Hideki Matsuyama  -1.255387  1.230784                  2\n",
       "Paul Casey        -1.138451  1.214812                  2\n",
       "Adam Scott        -0.869389  1.196097                  2\n",
       "Justin Rose       -1.087410  1.195274                  2\n",
       "Xander Schauffele -1.080555  1.190124                  2\n",
       "Patrick Reed      -1.031895  1.171865                  2\n",
       "Rickie Fowler     -0.982153  1.132590                  2\n",
       "Tyrrell Hatton    -0.900465  1.131128                  2"
      ]
     },
     "execution_count": 89,
     "metadata": {},
     "output_type": "execute_result"
    }
   ],
   "source": [
    "scaled_features_df.nlargest(20,'sg_total')"
   ]
  }
 ],
 "metadata": {
  "kernelspec": {
   "display_name": "Python 3",
   "language": "python",
   "name": "python3"
  },
  "language_info": {
   "codemirror_mode": {
    "name": "ipython",
    "version": 3
   },
   "file_extension": ".py",
   "mimetype": "text/x-python",
   "name": "python",
   "nbconvert_exporter": "python",
   "pygments_lexer": "ipython3",
   "version": "3.8.8"
  }
 },
 "nbformat": 4,
 "nbformat_minor": 5
}
