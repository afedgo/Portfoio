{
 "cells": [
  {
   "cell_type": "code",
   "execution_count": 18,
   "id": "40091c1d",
   "metadata": {},
   "outputs": [],
   "source": [
    "import pandas as pd\n",
    "import numpy as np\n",
    "import matplotlib.pyplot as plt\n",
    "import seaborn as sns\n",
    "%matplotlib inline\n",
    "from collections import Counter\n",
    "from sklearn.ensemble import RandomForestClassifier\n",
    "from sklearn.model_selection import train_test_split # Import train_test_split function\n",
    "from sklearn import metrics"
   ]
  },
  {
   "cell_type": "markdown",
   "id": "ec7362d1",
   "metadata": {},
   "source": [
    "Read in PGA data"
   ]
  },
  {
   "cell_type": "code",
   "execution_count": 3,
   "id": "7dc9fc26",
   "metadata": {},
   "outputs": [],
   "source": [
    "df=pd.read_csv(\"ASA All PGA Raw Data - Tourn Level.csv.txt\")\n"
   ]
  },
  {
   "cell_type": "markdown",
   "id": "97657623",
   "metadata": {},
   "source": [
    "Split data frame into features and label"
   ]
  },
  {
   "cell_type": "code",
   "execution_count": 6,
   "id": "0f07cc31",
   "metadata": {},
   "outputs": [
    {
     "data": {
      "text/plain": [
       "Counter({0: 22276, 1: 2463})"
      ]
     },
     "execution_count": 6,
     "metadata": {},
     "output_type": "execute_result"
    }
   ],
   "source": [
    "#Create binary variable for whether or not someone placed in top 10\n",
    "df['Place_Binary'] =np.where(df['final position']<=10,1,0)\n",
    "\n",
    "#create dataframe for only needed variable and drop any missing\n",
    "feature_cols = ['sg_putt','sg_arg','sg_app','sg_ott','sg_t2g','sg_total']\n",
    "trunc=df[feature_cols + ['Place_Binary']].dropna()\n",
    "\n",
    "X = trunc[feature_cols] # Features\n",
    "y=trunc['Place_Binary']\n",
    "counts=Counter(y)\n",
    "counts\n"
   ]
  },
  {
   "cell_type": "code",
   "execution_count": 9,
   "id": "c97ac8a9",
   "metadata": {},
   "outputs": [
    {
     "data": {
      "text/html": [
       "<div>\n",
       "<style scoped>\n",
       "    .dataframe tbody tr th:only-of-type {\n",
       "        vertical-align: middle;\n",
       "    }\n",
       "\n",
       "    .dataframe tbody tr th {\n",
       "        vertical-align: top;\n",
       "    }\n",
       "\n",
       "    .dataframe thead th {\n",
       "        text-align: right;\n",
       "    }\n",
       "</style>\n",
       "<table border=\"1\" class=\"dataframe\">\n",
       "  <thead>\n",
       "    <tr style=\"text-align: right;\">\n",
       "      <th></th>\n",
       "      <th>sg_putt</th>\n",
       "      <th>sg_arg</th>\n",
       "      <th>sg_app</th>\n",
       "      <th>sg_ott</th>\n",
       "      <th>sg_t2g</th>\n",
       "      <th>sg_total</th>\n",
       "    </tr>\n",
       "  </thead>\n",
       "  <tbody>\n",
       "    <tr>\n",
       "      <th>0</th>\n",
       "      <td>1.73</td>\n",
       "      <td>0.10</td>\n",
       "      <td>0.32</td>\n",
       "      <td>-0.62</td>\n",
       "      <td>-0.20</td>\n",
       "      <td>1.53</td>\n",
       "    </tr>\n",
       "    <tr>\n",
       "      <th>1</th>\n",
       "      <td>1.82</td>\n",
       "      <td>0.58</td>\n",
       "      <td>-2.26</td>\n",
       "      <td>-0.51</td>\n",
       "      <td>-2.19</td>\n",
       "      <td>-0.37</td>\n",
       "    </tr>\n",
       "    <tr>\n",
       "      <th>2</th>\n",
       "      <td>-0.35</td>\n",
       "      <td>-0.62</td>\n",
       "      <td>-1.95</td>\n",
       "      <td>0.57</td>\n",
       "      <td>-1.99</td>\n",
       "      <td>-2.34</td>\n",
       "    </tr>\n",
       "    <tr>\n",
       "      <th>4</th>\n",
       "      <td>1.73</td>\n",
       "      <td>-0.46</td>\n",
       "      <td>-5.50</td>\n",
       "      <td>-1.00</td>\n",
       "      <td>-6.96</td>\n",
       "      <td>-5.23</td>\n",
       "    </tr>\n",
       "    <tr>\n",
       "      <th>5</th>\n",
       "      <td>-0.50</td>\n",
       "      <td>0.72</td>\n",
       "      <td>-0.45</td>\n",
       "      <td>-0.66</td>\n",
       "      <td>-0.39</td>\n",
       "      <td>-0.89</td>\n",
       "    </tr>\n",
       "  </tbody>\n",
       "</table>\n",
       "</div>"
      ],
      "text/plain": [
       "   sg_putt  sg_arg  sg_app  sg_ott  sg_t2g  sg_total\n",
       "0     1.73    0.10    0.32   -0.62   -0.20      1.53\n",
       "1     1.82    0.58   -2.26   -0.51   -2.19     -0.37\n",
       "2    -0.35   -0.62   -1.95    0.57   -1.99     -2.34\n",
       "4     1.73   -0.46   -5.50   -1.00   -6.96     -5.23\n",
       "5    -0.50    0.72   -0.45   -0.66   -0.39     -0.89"
      ]
     },
     "execution_count": 9,
     "metadata": {},
     "output_type": "execute_result"
    }
   ],
   "source": [
    "X.head()"
   ]
  },
  {
   "cell_type": "markdown",
   "id": "2d5c85a4",
   "metadata": {},
   "source": [
    "Split into test and train"
   ]
  },
  {
   "cell_type": "code",
   "execution_count": 8,
   "id": "022be73f",
   "metadata": {},
   "outputs": [],
   "source": [
    "X_train, X_test, y_train, y_test = train_test_split(X, y, test_size=0.3, random_state=1) # 70% training and 30% test"
   ]
  },
  {
   "cell_type": "markdown",
   "id": "50d622a1",
   "metadata": {},
   "source": [
    "Build Rain Forest Model"
   ]
  },
  {
   "cell_type": "code",
   "execution_count": 11,
   "id": "a7625eba",
   "metadata": {},
   "outputs": [],
   "source": [
    "#Create a Gaussian Classifier\n",
    "clf=RandomForestClassifier(n_estimators=100)\n",
    "\n",
    "#Train the model using the training sets y_pred=clf.predict(X_test)\n",
    "clf.fit(X_train,y_train)\n",
    "\n",
    "y_pred=clf.predict(X_test)"
   ]
  },
  {
   "cell_type": "markdown",
   "id": "9ba1cd45",
   "metadata": {},
   "source": [
    "Check accuracy"
   ]
  },
  {
   "cell_type": "code",
   "execution_count": 13,
   "id": "e8b76644",
   "metadata": {},
   "outputs": [
    {
     "name": "stdout",
     "output_type": "stream",
     "text": [
      "Accuracy: 0.9601185664241444\n"
     ]
    }
   ],
   "source": [
    "# Model Accuracy, how often is the classifier correct?\n",
    "print(\"Accuracy:\",metrics.accuracy_score(y_test, y_pred))"
   ]
  },
  {
   "cell_type": "markdown",
   "id": "208cfd27",
   "metadata": {},
   "source": [
    "Let's predict result if someone shoots on par (result indicates the person would most likely not be in top 10)"
   ]
  },
  {
   "cell_type": "code",
   "execution_count": 14,
   "id": "e7b8c900",
   "metadata": {},
   "outputs": [
    {
     "data": {
      "text/plain": [
       "array([0])"
      ]
     },
     "execution_count": 14,
     "metadata": {},
     "output_type": "execute_result"
    }
   ],
   "source": [
    "clf.predict([[0, 0, 0, 0,0,0]])"
   ]
  },
  {
   "cell_type": "markdown",
   "id": "eba3f7ef",
   "metadata": {},
   "source": [
    "Let's see which features are the most important in modeling the outcome"
   ]
  },
  {
   "cell_type": "code",
   "execution_count": 17,
   "id": "d7e8be7b",
   "metadata": {},
   "outputs": [
    {
     "data": {
      "text/plain": [
       "sg_total    0.476307\n",
       "sg_t2g      0.186821\n",
       "sg_putt     0.126493\n",
       "sg_app      0.081955\n",
       "sg_ott      0.065660\n",
       "sg_arg      0.062763\n",
       "dtype: float64"
      ]
     },
     "execution_count": 17,
     "metadata": {},
     "output_type": "execute_result"
    }
   ],
   "source": [
    "#Create a Gaussian Classifier\n",
    "clf=RandomForestClassifier(n_estimators=100)\n",
    "\n",
    "#Train the model using the training sets y_pred=clf.predict(X_test)\n",
    "clf.fit(X_train,y_train)\n",
    "\n",
    "feature_imp = pd.Series(clf.feature_importances_,index=feature_cols).sort_values(ascending=False)\n",
    "feature_imp"
   ]
  },
  {
   "cell_type": "markdown",
   "id": "2e9d2aa1",
   "metadata": {},
   "source": [
    "Visualize importance of features"
   ]
  },
  {
   "cell_type": "code",
   "execution_count": 19,
   "id": "869ef7e0",
   "metadata": {},
   "outputs": [
    {
     "name": "stderr",
     "output_type": "stream",
     "text": [
      "No handles with labels found to put in legend.\n"
     ]
    },
    {
     "data": {
      "image/png": "[encoded data removed]",
      "text/plain": [
       "<Figure size 432x288 with 1 Axes>"
      ]
     },
     "metadata": {
      "needs_background": "light"
     },
     "output_type": "display_data"
    }
   ],
   "source": [
    "# Creating a bar plot\n",
    "sns.barplot(x=feature_imp, y=feature_imp.index)\n",
    "# Add labels to your graph\n",
    "plt.xlabel('Feature Importance Score')\n",
    "plt.ylabel('Features')\n",
    "plt.title(\"Visualizing Important Features\")\n",
    "plt.legend()\n",
    "plt.show()"
   ]
  },
  {
   "cell_type": "markdown",
   "id": "d3659ccc",
   "metadata": {},
   "source": [
    "I'm going to remove everything but sg_total because they don't contribute as much and I think there is multicollinearity occuring"
   ]
  },
  {
   "cell_type": "code",
   "execution_count": 28,
   "id": "e3853be8",
   "metadata": {},
   "outputs": [],
   "source": [
    "#create dataframe for only needed variable and drop any missing\n",
    "feature_cols = ['sg_total']\n",
    "trunc=df[feature_cols + ['Place_Binary']].dropna()\n",
    "\n",
    "X = trunc[feature_cols] # Features\n",
    "y=trunc['Place_Binary']\n",
    "counts=Counter(y)\n",
    "counts\n",
    "\n",
    "X_train, X_test, y_train, y_test = train_test_split(X, y, test_size=0.3, random_state=1) # 70% training and 30% test"
   ]
  },
  {
   "cell_type": "markdown",
   "id": "99cb5016",
   "metadata": {},
   "source": [
    "Create model and look at accuracy"
   ]
  },
  {
   "cell_type": "code",
   "execution_count": 29,
   "id": "cf9cd8ab",
   "metadata": {},
   "outputs": [
    {
     "name": "stdout",
     "output_type": "stream",
     "text": [
      "Accuracy: 0.9606575047157101\n"
     ]
    }
   ],
   "source": [
    "#Create a Gaussian Classifier\n",
    "clf=RandomForestClassifier(n_estimators=100)\n",
    "\n",
    "#Train the model using the training sets y_pred=clf.predict(X_test)\n",
    "clf.fit(X_train,y_train)\n",
    "\n",
    "# prediction on test set\n",
    "y_pred=clf.predict(X_test)\n",
    "\n",
    "\n",
    "# Model Accuracy, how often is the classifier correct?\n",
    "print(\"Accuracy:\",metrics.accuracy_score(y_test, y_pred))"
   ]
  },
  {
   "cell_type": "code",
   "execution_count": null,
   "id": "c0f43957",
   "metadata": {},
   "outputs": [],
   "source": [
    "Want to look at model without sg_total"
   ]
  },
  {
   "cell_type": "code",
   "execution_count": 30,
   "id": "9b7cf6ac",
   "metadata": {},
   "outputs": [],
   "source": [
    "#create dataframe for only needed variable and drop any missing\n",
    "feature_cols = ['sg_putt','sg_arg','sg_app','sg_ott','sg_t2g']\n",
    "trunc=df[feature_cols + ['Place_Binary']].dropna()\n",
    "\n",
    "X = trunc[feature_cols] # Features\n",
    "y=trunc['Place_Binary']\n",
    "counts=Counter(y)\n",
    "counts\n",
    "\n",
    "X_train, X_test, y_train, y_test = train_test_split(X, y, test_size=0.3, random_state=1) # 70% training and 30% test"
   ]
  },
  {
   "cell_type": "code",
   "execution_count": 31,
   "id": "e4d7718e",
   "metadata": {},
   "outputs": [
    {
     "name": "stdout",
     "output_type": "stream",
     "text": [
      "Accuracy: 0.9576933441120992\n"
     ]
    }
   ],
   "source": [
    "#Create a Gaussian Classifier\n",
    "clf=RandomForestClassifier(n_estimators=100)\n",
    "\n",
    "#Train the model using the training sets y_pred=clf.predict(X_test)\n",
    "clf.fit(X_train,y_train)\n",
    "\n",
    "# prediction on test set\n",
    "y_pred=clf.predict(X_test)\n",
    "\n",
    "\n",
    "# Model Accuracy, how often is the classifier correct?\n",
    "print(\"Accuracy:\",metrics.accuracy_score(y_test, y_pred))"
   ]
  },
  {
   "cell_type": "markdown",
   "id": "6fba7765",
   "metadata": {},
   "source": [
    "Want to look at feature selection"
   ]
  },
  {
   "cell_type": "code",
   "execution_count": 32,
   "id": "24837715",
   "metadata": {},
   "outputs": [
    {
     "data": {
      "text/plain": [
       "sg_putt    0.350390\n",
       "sg_t2g     0.341367\n",
       "sg_app     0.129231\n",
       "sg_ott     0.093109\n",
       "sg_arg     0.085903\n",
       "dtype: float64"
      ]
     },
     "execution_count": 32,
     "metadata": {},
     "output_type": "execute_result"
    }
   ],
   "source": [
    "feature_imp = pd.Series(clf.feature_importances_,index=feature_cols).sort_values(ascending=False)\n",
    "feature_imp"
   ]
  },
  {
   "cell_type": "code",
   "execution_count": 33,
   "id": "04bc7317",
   "metadata": {},
   "outputs": [
    {
     "name": "stderr",
     "output_type": "stream",
     "text": [
      "No handles with labels found to put in legend.\n"
     ]
    },
    {
     "data": {
      "image/png": "[encoded data removed]",
      "text/plain": [
       "<Figure size 432x288 with 1 Axes>"
      ]
     },
     "metadata": {
      "needs_background": "light"
     },
     "output_type": "display_data"
    }
   ],
   "source": [
    "# Creating a bar plot\n",
    "sns.barplot(x=feature_imp, y=feature_imp.index)\n",
    "# Add labels to your graph\n",
    "plt.xlabel('Feature Importance Score')\n",
    "plt.ylabel('Features')\n",
    "plt.title(\"Visualizing Important Features\")\n",
    "plt.legend()\n",
    "plt.show()"
   ]
  },
  {
   "cell_type": "markdown",
   "id": "6da3be9b",
   "metadata": {},
   "source": [
    "Drop out the variables that contribute the least to the model"
   ]
  },
  {
   "cell_type": "code",
   "execution_count": 70,
   "id": "17ee9fa1",
   "metadata": {},
   "outputs": [],
   "source": [
    "#create dataframe for only needed variable and drop any missing\n",
    "feature_cols = ['sg_putt','sg_t2g','sg_app','sg_ott']\n",
    "trunc=df[feature_cols + ['Place_Binary']].dropna()\n",
    "\n",
    "X = trunc[feature_cols] # Features\n",
    "y=trunc['Place_Binary']\n",
    "counts=Counter(y)\n",
    "counts\n",
    "\n",
    "X_train, X_test, y_train, y_test = train_test_split(X, y, test_size=0.3, random_state=1) # 70% training and 30% test"
   ]
  },
  {
   "cell_type": "code",
   "execution_count": 81,
   "id": "e92abf84",
   "metadata": {},
   "outputs": [
    {
     "name": "stdout",
     "output_type": "stream",
     "text": [
      "Accuracy: 0.9582322824036648\n"
     ]
    }
   ],
   "source": [
    "#Create a Gaussian Classifier\n",
    "clf=RandomForestClassifier(n_estimators=100)\n",
    "\n",
    "#Train the model using the training sets y_pred=clf.predict(X_test)\n",
    "clf.fit(X_train,y_train)\n",
    "\n",
    "# prediction on test set\n",
    "y_pred=clf.predict(X_test)\n",
    "\n",
    "\n",
    "# Model Accuracy, how often is the classifier correct?\n",
    "print(\"Accuracy:\",metrics.accuracy_score(y_test, y_pred))"
   ]
  },
  {
   "cell_type": "code",
   "execution_count": 83,
   "id": "01c7d8b3",
   "metadata": {},
   "outputs": [],
   "source": [
    "#create dataframe for only needed variable and drop any missing\n",
    "feature_cols = ['sg_putt','sg_t2g','sg_app']\n",
    "trunc=df[feature_cols + ['Place_Binary']].dropna()\n",
    "\n",
    "X = trunc[feature_cols] # Features\n",
    "y=trunc['Place_Binary']\n",
    "counts=Counter(y)\n",
    "counts\n",
    "\n",
    "X_train, X_test, y_train, y_test = train_test_split(X, y, test_size=0.3, random_state=1) # 70% training and 30% test"
   ]
  },
  {
   "cell_type": "code",
   "execution_count": 84,
   "id": "1955e684",
   "metadata": {},
   "outputs": [
    {
     "name": "stdout",
     "output_type": "stream",
     "text": [
      "Accuracy: 0.9564807329560765\n"
     ]
    }
   ],
   "source": [
    "#Create a Gaussian Classifier\n",
    "clf=RandomForestClassifier(n_estimators=100)\n",
    "\n",
    "#Train the model using the training sets y_pred=clf.predict(X_test)\n",
    "clf.fit(X_train,y_train)\n",
    "\n",
    "# prediction on test set\n",
    "y_pred=clf.predict(X_test)\n",
    "\n",
    "\n",
    "# Model Accuracy, how often is the classifier correct?\n",
    "print(\"Accuracy:\",metrics.accuracy_score(y_test, y_pred))"
   ]
  },
  {
   "cell_type": "code",
   "execution_count": 85,
   "id": "22688f60",
   "metadata": {},
   "outputs": [],
   "source": [
    "#create dataframe for only needed variable and drop any missing\n",
    "feature_cols = ['sg_putt','sg_t2g']\n",
    "trunc=df[feature_cols + ['Place_Binary']].dropna()\n",
    "\n",
    "X = trunc[feature_cols] # Features\n",
    "y=trunc['Place_Binary']\n",
    "counts=Counter(y)\n",
    "counts\n",
    "\n",
    "X_train, X_test, y_train, y_test = train_test_split(X, y, test_size=0.3, random_state=1) # 70% training and 30% test"
   ]
  },
  {
   "cell_type": "code",
   "execution_count": 88,
   "id": "771def80",
   "metadata": {},
   "outputs": [
    {
     "name": "stdout",
     "output_type": "stream",
     "text": [
      "Accuracy: 0.9537860414982484\n"
     ]
    }
   ],
   "source": [
    "#Create a Gaussian Classifier\n",
    "clf=RandomForestClassifier(n_estimators=100)\n",
    "\n",
    "#Train the model using the training sets y_pred=clf.predict(X_test)\n",
    "clf.fit(X_train,y_train)\n",
    "\n",
    "# prediction on test set\n",
    "y_pred=clf.predict(X_test)\n",
    "\n",
    "\n",
    "# Model Accuracy, how often is the classifier correct?\n",
    "print(\"Accuracy:\",metrics.accuracy_score(y_test, y_pred))"
   ]
  }
 ],
 "metadata": {
  "kernelspec": {
   "display_name": "Python 3",
   "language": "python",
   "name": "python3"
  },
  "language_info": {
   "codemirror_mode": {
    "name": "ipython",
    "version": 3
   },
   "file_extension": ".py",
   "mimetype": "text/x-python",
   "name": "python",
   "nbconvert_exporter": "python",
   "pygments_lexer": "ipython3",
   "version": "3.8.8"
  }
 },
 "nbformat": 4,
 "nbformat_minor": 5
}
